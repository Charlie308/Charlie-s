{
 "cells": [
  {
   "cell_type": "code",
   "execution_count": 1,
   "id": "ccc108f3",
   "metadata": {},
   "outputs": [],
   "source": [
    "a = 123456"
   ]
  },
  {
   "cell_type": "code",
   "execution_count": 2,
   "id": "e0f06efb",
   "metadata": {},
   "outputs": [],
   "source": [
    "b = 234567"
   ]
  },
  {
   "cell_type": "code",
   "execution_count": 3,
   "id": "c7cda187",
   "metadata": {},
   "outputs": [],
   "source": [
    "c = a + b"
   ]
  },
  {
   "cell_type": "code",
   "execution_count": 4,
   "id": "6822e451",
   "metadata": {},
   "outputs": [
    {
     "name": "stdout",
     "output_type": "stream",
     "text": [
      "358023\n"
     ]
    }
   ],
   "source": [
    "print(c)"
   ]
  },
  {
   "cell_type": "code",
   "execution_count": 5,
   "id": "ebfe8ab7",
   "metadata": {},
   "outputs": [],
   "source": [
    "tên = \"Nguyễn Vũ Linh\""
   ]
  },
  {
   "cell_type": "code",
   "execution_count": 6,
   "id": "dc5fa251",
   "metadata": {},
   "outputs": [],
   "source": [
    "tuổi = 31"
   ]
  },
  {
   "cell_type": "code",
   "execution_count": 9,
   "id": "4bee07e4",
   "metadata": {},
   "outputs": [],
   "source": [
    "quê_quán = \"Khánh Hoà\""
   ]
  },
  {
   "cell_type": "code",
   "execution_count": 10,
   "id": "029af8aa",
   "metadata": {},
   "outputs": [
    {
     "name": "stdout",
     "output_type": "stream",
     "text": [
      "Nguyễn Vũ Linh\n"
     ]
    }
   ],
   "source": [
    "print(tên)"
   ]
  },
  {
   "cell_type": "code",
   "execution_count": 11,
   "id": "3e20929a",
   "metadata": {},
   "outputs": [
    {
     "name": "stdout",
     "output_type": "stream",
     "text": [
      "Nguyễn Vũ Linh 31 Khánh Hoà\n"
     ]
    }
   ],
   "source": [
    "print(tên, tuổi, quê_quán)"
   ]
  },
  {
   "cell_type": "code",
   "execution_count": null,
   "id": "2b460592",
   "metadata": {},
   "outputs": [],
   "source": []
  }
 ],
 "metadata": {
  "kernelspec": {
   "display_name": "Python 3 (ipykernel)",
   "language": "python",
   "name": "python3"
  },
  "language_info": {
   "codemirror_mode": {
    "name": "ipython",
    "version": 3
   },
   "file_extension": ".py",
   "mimetype": "text/x-python",
   "name": "python",
   "nbconvert_exporter": "python",
   "pygments_lexer": "ipython3",
   "version": "3.10.6"
  }
 },
 "nbformat": 4,
 "nbformat_minor": 5
}
