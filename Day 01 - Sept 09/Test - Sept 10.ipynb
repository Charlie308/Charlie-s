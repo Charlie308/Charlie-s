{
 "cells": [
  {
   "cell_type": "code",
   "execution_count": 1,
   "id": "6a5ae8f1",
   "metadata": {},
   "outputs": [],
   "source": [
    "a = 123456"
   ]
  },
  {
   "cell_type": "code",
   "execution_count": 2,
   "id": "e84796ac",
   "metadata": {},
   "outputs": [],
   "source": [
    "b = 234567"
   ]
  },
  {
   "cell_type": "code",
   "execution_count": 3,
   "id": "4a6ff6e5",
   "metadata": {},
   "outputs": [],
   "source": [
    "c = a + b"
   ]
  },
  {
   "cell_type": "code",
   "execution_count": 4,
   "id": "08a5f8ec",
   "metadata": {},
   "outputs": [
    {
     "name": "stdout",
     "output_type": "stream",
     "text": [
      "358023\n"
     ]
    }
   ],
   "source": [
    "print(c)"
   ]
  },
  {
   "cell_type": "code",
   "execution_count": 5,
   "id": "2750052a",
   "metadata": {},
   "outputs": [],
   "source": [
    "tên = \"Nguyễn Vũ Linh\""
   ]
  },
  {
   "cell_type": "code",
   "execution_count": 6,
   "id": "b309979d",
   "metadata": {},
   "outputs": [],
   "source": [
    "tuổi = 31"
   ]
  },
  {
   "cell_type": "code",
   "execution_count": 9,
   "id": "e34362b0",
   "metadata": {},
   "outputs": [],
   "source": [
    "quê_quán = \"Khánh Hoà\""
   ]
  },
  {
   "cell_type": "code",
   "execution_count": 10,
   "id": "06ee1b94",
   "metadata": {},
   "outputs": [
    {
     "name": "stdout",
     "output_type": "stream",
     "text": [
      "Nguyễn Vũ Linh\n"
     ]
    }
   ],
   "source": [
    "print(tên)"
   ]
  },
  {
   "cell_type": "code",
   "execution_count": 11,
   "id": "64981432",
   "metadata": {},
   "outputs": [
    {
     "name": "stdout",
     "output_type": "stream",
     "text": [
      "Nguyễn Vũ Linh 31 Khánh Hoà\n"
     ]
    }
   ],
   "source": [
    "print(tên, tuổi, quê_quán)"
   ]
  },
  {
   "cell_type": "code",
   "execution_count": null,
   "id": "7481ef83",
   "metadata": {},
   "outputs": [],
   "source": []
  }
 ],
 "metadata": {
  "kernelspec": {
   "display_name": "Python 3 (ipykernel)",
   "language": "python",
   "name": "python3"
  },
  "language_info": {
   "codemirror_mode": {
    "name": "ipython",
    "version": 3
   },
   "file_extension": ".py",
   "mimetype": "text/x-python",
   "name": "python",
   "nbconvert_exporter": "python",
   "pygments_lexer": "ipython3",
   "version": "3.10.6"
  }
 },
 "nbformat": 4,
 "nbformat_minor": 5
}
